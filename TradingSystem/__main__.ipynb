{
 "cells": [
  {
   "cell_type": "code",
   "execution_count": 1,
   "metadata": {},
   "outputs": [
    {
     "name": "stdout",
     "output_type": "stream",
     "text": [
      "importing Jupyter notebook from Algorithm/Demo/Demo.ipynb\n"
     ]
    },
    {
     "ename": "NameError",
     "evalue": "global name 'adsads' is not defined",
     "output_type": "error",
     "traceback": [
      "\u001b[0;31m---------------------------------------------------------------------------\u001b[0m",
      "\u001b[0;31mNameError\u001b[0m                                 Traceback (most recent call last)",
      "\u001b[0;32m<ipython-input-1-a13dc0ff26a7>\u001b[0m in \u001b[0;36m<module>\u001b[0;34m()\u001b[0m\n\u001b[1;32m     27\u001b[0m \u001b[0;34m\u001b[0m\u001b[0m\n\u001b[1;32m     28\u001b[0m \u001b[0moiw\u001b[0m \u001b[0;34m=\u001b[0m \u001b[0mIW\u001b[0m\u001b[0;34m.\u001b[0m\u001b[0mModel\u001b[0m\u001b[0;34m(\u001b[0m\u001b[0mreturns\u001b[0m\u001b[0;34m)\u001b[0m\u001b[0;34m\u001b[0m\u001b[0m\n\u001b[0;32m---> 29\u001b[0;31m \u001b[0mscore\u001b[0m\u001b[0;34m,\u001b[0m \u001b[0mcap\u001b[0m\u001b[0;34m,\u001b[0m \u001b[0mcap_daily_p\u001b[0m\u001b[0;34m,\u001b[0m \u001b[0mposition\u001b[0m \u001b[0;34m=\u001b[0m \u001b[0moiw\u001b[0m\u001b[0;34m.\u001b[0m\u001b[0mCore\u001b[0m\u001b[0;34m(\u001b[0m\u001b[0;34m)\u001b[0m\u001b[0;34m\u001b[0m\u001b[0m\n\u001b[0m\u001b[1;32m     30\u001b[0m \u001b[0mplt\u001b[0m\u001b[0;34m.\u001b[0m\u001b[0mplot\u001b[0m\u001b[0;34m(\u001b[0m\u001b[0mscore\u001b[0m\u001b[0;34m)\u001b[0m\u001b[0;34m\u001b[0m\u001b[0m\n\u001b[1;32m     31\u001b[0m \u001b[0mplt\u001b[0m\u001b[0;34m.\u001b[0m\u001b[0msubplot\u001b[0m\u001b[0;34m(\u001b[0m\u001b[0;36m512\u001b[0m\u001b[0;34m)\u001b[0m\u001b[0;34m\u001b[0m\u001b[0m\n",
      "\u001b[0;32m/home/kaz/Documents/Jon/TradingSystem/Algorithm/Demo/Demo.ipynb\u001b[0m in \u001b[0;36mCore\u001b[0;34m(self)\u001b[0m\n",
      "\u001b[0;31mNameError\u001b[0m: global name 'adsads' is not defined"
     ]
    }
   ],
   "source": [
    "import Ipynb_importer\n",
    "import numpy as np\n",
    "import pandas as pd\n",
    "import matplotlib.pyplot as plt\n",
    "import matplotlib.ticker as ticker\n",
    "import matplotlib.dates as mdates\n",
    "import datetime as datetime\n",
    "from mpl_finance import candlestick2_ohlc\n",
    "\n",
    "from Algorithm.Demo import Demo as IW\n",
    "\n",
    "returns = pd.read_excel('Data/stock_data.xlsx', sheet_name='Sheet2', index_col=0)\n",
    "date = pd.read_excel('Data/stock_data.xlsx', sheet_name='Sheet2')\n",
    "\n",
    "\n",
    "plt.figure(1)\n",
    "\n",
    "#print(date)\n",
    "\n",
    "\n",
    "\n",
    "plt.subplot(511)\n",
    "#returns.plot()\n",
    "plt.title('Stock Data')\n",
    "plt.xlabel('Time')\n",
    "plt.legend(loc=0)\n",
    "  \n",
    "oiw = IW.Model(returns)\n",
    "score, cap, cap_daily_p, position = oiw.Core()\n",
    "plt.plot(score)\n",
    "plt.subplot(512)\n",
    "plt.plot(cap_daily_p)\n",
    "plt.subplot(513)\n",
    "plt.plot(position)\n",
    "plt.subplot(514)\n",
    "plt.plot(cap)\n",
    "\n",
    "\n",
    "cap.append(0)\n",
    "score.append(0)\n",
    "px_last = returns['PX_LAST']\n",
    "d = returns.index.tolist()\n",
    "ex = pd.DataFrame({'Score': score, 'Capital': cap, 'Last_Price': px_last, 'Position': position, 'Daily %': cap_daily_p})\n",
    "ex.to_excel('Data/export_TS.xlsx', sheet_name='export')\n",
    "\n",
    "'''\n",
    "plt.subplot(311)\n",
    "prices = pd.read_excel('stock_data.xlsx', sheet_name=2, index_col=0, usecols=\"A,B,C,D,E\")\n",
    "#prices.plot()\n",
    "plt.title('Prices')\n",
    "plt.xlabel('Time')\n",
    "plt.legend(loc=0)\n",
    "plt.plot(prices)\n",
    "\n",
    "plt.subplot(312)\n",
    "bb = pd.read_excel('stock_data.xlsx', sheet_name=2, index_col=0, usecols=\"A,B,E,M,N,O\")\n",
    "#bb.plot()\n",
    "plt.title('BB')\n",
    "plt.xlabel('Time')\n",
    "plt.legend(loc=0)\n",
    "plt.plot(bb)\n",
    "'''\n",
    "\n",
    "print float(returns['PX_LAST'][-1]) / float(returns['PX_LAST'][0]) - 1.\n",
    "print cap[-2] / cap[0] - 1.\n",
    "\n",
    "ax = plt.subplot(515)\n",
    "candlestick2_ohlc(ax, returns['PX_OPEN'], returns['PX_HIGH'], returns['PX_LOW'], returns['PX_LAST'], width=0.3)\n",
    "xdate = returns.index\n",
    "\n",
    "#ax.xaxis.set_major_locator(ticker.MaxNLocator(6))\n",
    "\n",
    "def mydate(x, pos) :\n",
    "  try:\n",
    "    return xdate[int(x)]\n",
    "  except IndexError:\n",
    "    return ''\n",
    "    \n",
    "ax.xaxis.set_major_formatter(ticker.FuncFormatter(mydate))\n",
    "\n",
    "\n",
    "plt.tight_layout()\n",
    "plt.show()\n"
   ]
  },
  {
   "cell_type": "code",
   "execution_count": null,
   "metadata": {},
   "outputs": [],
   "source": []
  }
 ],
 "metadata": {
  "kernelspec": {
   "display_name": "Python 2",
   "language": "python",
   "name": "python2"
  },
  "language_info": {
   "codemirror_mode": {
    "name": "ipython",
    "version": 2
   },
   "file_extension": ".py",
   "mimetype": "text/x-python",
   "name": "python",
   "nbconvert_exporter": "python",
   "pygments_lexer": "ipython2",
   "version": "2.7.15"
  }
 },
 "nbformat": 4,
 "nbformat_minor": 2
}
