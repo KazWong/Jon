{
 "cells": [
  {
   "cell_type": "code",
   "execution_count": 1,
   "metadata": {
    "scrolled": true
   },
   "outputs": [
    {
     "name": "stderr",
     "output_type": "stream",
     "text": [
      "/anaconda2/lib/python2.7/site-packages/cryptography/hazmat/primitives/constant_time.py:26: CryptographyDeprecationWarning: Support for your Python version is deprecated. The next version of cryptography will remove support. Please upgrade to a 2.7.x release that supports hmac.compare_digest as soon as possible.\n",
      "  utils.DeprecatedIn23,\n"
     ]
    },
    {
     "name": "stdout",
     "output_type": "stream",
     "text": [
      "importing Jupyter notebook from Algorithm/Demo/Demo.ipynb\n"
     ]
    },
    {
     "data": {
      "text/plain": [
       "[<matplotlib.lines.Line2D at 0x10a8b5890>]"
      ]
     },
     "execution_count": 1,
     "metadata": {},
     "output_type": "execute_result"
    }
   ],
   "source": [
    "import Ipynb_importer\n",
    "import numpy as np\n",
    "import pandas as pd\n",
    "import matplotlib.pyplot as plt\n",
    "import matplotlib.ticker as ticker\n",
    "import matplotlib.dates as mdates\n",
    "import datetime as datetime\n",
    "from mpl_finance import candlestick2_ohlc\n",
    "\n",
    "from Algorithm.Demo import Demo as IW\n",
    "\n",
    "returns = pd.read_excel('Data/stock_data.xlsx', sheet_name='Sheet2', index_col=0)\n",
    "date = pd.read_excel('Data/stock_data.xlsx', sheet_name='Sheet2')\n",
    "\n",
    "\n",
    "plt.figure(1)\n",
    "\n",
    "#print(date)\n",
    "\n",
    "plt.subplot(511)\n",
    "#returns.plot()\n",
    "plt.title('Stock Data')\n",
    "plt.xlabel('Time')\n",
    "plt.legend(loc=0)\n",
    "  \n",
    "oiw = IW.Model(returns)\n",
    "score, cap, cap_daily_p, position = oiw.Core()\n",
    "plt.plot(score)\n",
    "plt.subplot(512)\n",
    "plt.plot(cap_daily_p)\n",
    "plt.subplot(513)\n",
    "plt.plot(position)\n",
    "plt.subplot(514)\n",
    "plt.plot(cap)\n",
    "\n",
    "\n",
    "\n"
   ]
  },
  {
   "cell_type": "code",
   "execution_count": 2,
   "metadata": {},
   "outputs": [
    {
     "name": "stdout",
     "output_type": "stream",
     "text": [
      "6639 6639 6639\n"
     ]
    }
   ],
   "source": [
    "cap.append(0)\n",
    "score.append(0)\n",
    "px_last = returns['PX_LAST']\n",
    "print len(score), len(position), len(px_last)"
   ]
  },
  {
   "cell_type": "code",
   "execution_count": 3,
   "metadata": {},
   "outputs": [],
   "source": [
    "ex = pd.DataFrame({'Score': score, 'Capital': cap, 'Last_Price': px_last, 'Position': position, 'Daily %': cap_daily_p})"
   ]
  },
  {
   "cell_type": "code",
   "execution_count": 4,
   "metadata": {},
   "outputs": [
    {
     "name": "stdout",
     "output_type": "stream",
     "text": [
      "4.67648253452\n",
      "0.875252841626\n"
     ]
    },
    {
     "data": {
      "image/png": "[encoded data removed]",
      "text/plain": [
       "<Figure size 432x288 with 5 Axes>"
      ]
     },
     "metadata": {},
     "output_type": "display_data"
    }
   ],
   "source": [
    "ex.to_excel('Data/export_TS.xlsx', sheet_name='export')\n",
    "\n",
    "'''\n",
    "plt.subplot(311)\n",
    "prices = pd.read_excel('stock_data.xlsx', sheet_name=2, index_col=0, usecols=\"A,B,C,D,E\")\n",
    "#prices.plot()\n",
    "plt.title('Prices')\n",
    "plt.xlabel('Time')\n",
    "plt.legend(loc=0)\n",
    "plt.plot(prices)\n",
    "\n",
    "plt.subplot(312)\n",
    "bb = pd.read_excel('stock_data.xlsx', sheet_name=2, index_col=0, usecols=\"A,B,E,M,N,O\")\n",
    "#bb.plot()\n",
    "plt.title('BB')\n",
    "plt.xlabel('Time')\n",
    "plt.legend(loc=0)\n",
    "plt.plot(bb)\n",
    "'''\n",
    "\n",
    "print float(returns['PX_LAST'][-1]) / float(returns['PX_LAST'][0]) - 1.\n",
    "print cap[-2] / cap[0] - 1.\n",
    "\n",
    "ax = plt.subplot(515)\n",
    "candlestick2_ohlc(ax, returns['PX_OPEN'], returns['PX_HIGH'], returns['PX_LOW'], returns['PX_LAST'], width=0.3)\n",
    "xdate = returns.index\n",
    "\n",
    "#ax.xaxis.set_major_locator(ticker.MaxNLocator(6))\n",
    "\n",
    "def mydate(x, pos) :\n",
    "    try:\n",
    "        return xdate[int(x)]\n",
    "    except IndexError:\n",
    "        return ''\n",
    "    \n",
    "ax.xaxis.set_major_formatter(ticker.FuncFormatter(mydate))\n",
    "\n",
    "\n",
    "plt.tight_layout()\n",
    "plt.show()"
   ]
  }
 ],
 "metadata": {
  "kernelspec": {
   "display_name": "Python 2",
   "language": "python",
   "name": "python2"
  },
  "language_info": {
   "codemirror_mode": {
    "name": "ipython",
    "version": 2
   },
   "file_extension": ".py",
   "mimetype": "text/x-python",
   "name": "python",
   "nbconvert_exporter": "python",
   "pygments_lexer": "ipython2",
   "version": "2.7.3"
  }
 },
 "nbformat": 4,
 "nbformat_minor": 2
}
