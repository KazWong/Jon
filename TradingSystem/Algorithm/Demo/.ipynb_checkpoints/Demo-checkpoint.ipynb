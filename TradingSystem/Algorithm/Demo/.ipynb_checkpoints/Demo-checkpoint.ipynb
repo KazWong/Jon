{
 "cells": [
  {
   "cell_type": "code",
   "execution_count": 4,
   "metadata": {},
   "outputs": [
    {
     "ename": "SyntaxError",
     "evalue": "invalid syntax (<ipython-input-4-d87872a0f296>, line 63)",
     "output_type": "error",
     "traceback": [
      "\u001b[0;36m  File \u001b[0;32m\"<ipython-input-4-d87872a0f296>\"\u001b[0;36m, line \u001b[0;32m63\u001b[0m\n\u001b[0;31m    if (score[-1] > -4 && score[-1] < 4):\u001b[0m\n\u001b[0m                        ^\u001b[0m\n\u001b[0;31mSyntaxError\u001b[0m\u001b[0;31m:\u001b[0m invalid syntax\n"
     ]
    }
   ],
   "source": [
    "from ..Template import Template\n",
    "from ..Library.DailyPct import DailyPct\n",
    "\n",
    "import pandas as pd\n",
    "\n",
    "class Model(Template):\n",
    "    def __init__(self, returns):\n",
    "        super(Model, self).__init__(returns)\n",
    "        self.dmi_plus = self.px['DMI_PLUS']\n",
    "        self.dmi_minus = self.px['DMI_MINUS']\n",
    "        self.px_last = self.px['PX_LAST']\n",
    "        self.bb_ma = self.px['BB_MA']\n",
    "        self.macd_diff = self.px['MACD_DIFF']\n",
    "        self.trender_up = self.px['TRENDER_UP']\n",
    "        self.trender_down = self.px['TRENDER_DN']\n",
    "        self.tas_k = self.px['TAS_K']\n",
    "        self.tas_d = self.px['TAS_D']\n",
    "        self.ema_5 = self.px['EMA(5)']\n",
    "        self.ema_20 = self.px['EMA(20)']\n",
    "  \n",
    "        self.px_open = self.px['PX_OPEN']\n",
    "        self.px_last = self.px['PX_LAST']\n",
    "        self.cap_dail_p = DailyPct(self.px['PX_LAST'])\n",
    "    \n",
    "    def Core(self):\n",
    "        score = []\n",
    "        capital = [100]\n",
    "        position = [0, 0]\n",
    "  \n",
    "        for i in xrange(self.dmi_plus.size-1):\n",
    "            score.append(0)\n",
    "            if i>0:\n",
    "                position.append(position[-1])\n",
    "                capital.append(capital[-1])\n",
    "            if (self.dmi_plus[i] > self.dmi_minus[i]):\n",
    "                score[i] += 1\n",
    "            elif (self.dmi_plus[i] < self.dmi_minus[i]) :\n",
    "                score[i] -= 1\n",
    "            if (self.px_last[i] > self.bb_ma[i]) :\n",
    "                score[i] += 1\n",
    "            elif (self.px_last[i] < self.bb_ma[i]) :\n",
    "                score[i] -= 1\n",
    "            if (self.macd_diff[i] > 0):\n",
    "                score[i] += 2\n",
    "            elif (self.macd_diff[i] < 0) :\n",
    "                score[i] -= 2\n",
    "            if (self.trender_up[i] == \"#N/A N/A\") :\n",
    "                score[i] += 1\n",
    "            if (self.trender_down[i] == \"#N/A N/A\") :\n",
    "                score[i] -= 1\n",
    "            if (self.tas_k[i] > self.tas_d[i]) :\n",
    "                score[i] += 1\n",
    "            elif (self.tas_k[i] < self.tas_d[i]) :\n",
    "                score[i] -= 1\n",
    "            if (self.ema_5[i] > self.ema_20[i]) :\n",
    "                score[i] += 1\n",
    "            elif (self.ema_5[i] > self.ema_20[i]) :\n",
    "                score[i] -= 1\n",
    "\n",
    "            if (position[-1] == 1 or position[-1] == -1):\n",
    "                capital[i] = capital[i] * (1 + (self.cap_dail_p[i]* position[-1]))\n",
    "\n",
    "            if (len(score)>1):\n",
    "                if (score[-1] > -4 and score[-1] < 4):\n",
    "                    position[-1] = 0\n",
    "                elif (score[-1] <= -4):\n",
    "                    position[-1] = -1\n",
    "                else:\n",
    "                    position[-1] = 1\n",
    "                \n",
    "    \n",
    "        return score, capital, self.cap_dail_p, position\n"
   ]
  },
  {
   "cell_type": "code",
   "execution_count": null,
   "metadata": {
    "collapsed": true
   },
   "outputs": [],
   "source": []
  }
 ],
 "metadata": {
  "kernelspec": {
   "display_name": "Python 2",
   "language": "python",
   "name": "python2"
  },
  "language_info": {
   "codemirror_mode": {
    "name": "ipython",
    "version": 2
   },
   "file_extension": ".py",
   "mimetype": "text/x-python",
   "name": "python",
   "nbconvert_exporter": "python",
   "pygments_lexer": "ipython2",
   "version": "2.7.3"
  }
 },
 "nbformat": 4,
 "nbformat_minor": 2
}
